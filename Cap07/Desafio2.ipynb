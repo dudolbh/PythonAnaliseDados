{
 "cells": [
  {
   "cell_type": "markdown",
   "metadata": {},
   "source": [
    "## Missão: Gerar uma lista de números primos.\n",
    "## Premissas\n",
    "\n",
    "* É correto que 1 não seja considerado um número primo?\n",
    "     * Sim\n",
    "* Podemos assumir que as entradas são válidas?\n",
    "     * Não\n",
    "* Podemos supor que isso se encaixa na memória?\n",
    "     * Sim"
   ]
  },
  {
   "cell_type": "code",
   "execution_count": 11,
   "metadata": {},
   "outputs": [],
   "source": [
    "import math\n",
    "\n",
    "def geraPrimos(num):\n",
    "  #Verifica se o numero e inteiro e retorna TypeError caso o contrario\n",
    "  if type(num) != int: raise TypeError('Não é um inteiro valido')\n",
    "    \n",
    "  #verifica se e uma raiz perfeita\n",
    "  raiz = math.sqrt(num)\n",
    "  if int(raiz) != raiz: raiz = num\n",
    "  else: raiz = int(raiz)\n",
    "  print(raiz)\n",
    "\n",
    "  lista_num = [i for i in range(2,raiz+1)]\n",
    "  print(lista_num)\n",
    "  \n",
    "  primos = []\n",
    "  for numerotestado in lista_num:\n",
    "      eprimo = True\n",
    "      #Se o primo for divisivel por qualquer numero interrompe o loop\n",
    "      for num in range(2,numerotestado):\n",
    "          if numerotestado % num == 0:\n",
    "              eprimo = False\n",
    "              break\n",
    "      if eprimo:\n",
    "          primos.append(numerotestado)\n",
    "          \n",
    "  return(primos)\n",
    "\n"
   ]
  },
  {
   "cell_type": "code",
   "execution_count": 12,
   "metadata": {},
   "outputs": [
    {
     "name": "stdout",
     "output_type": "stream",
     "text": [
      "20\n",
      "[2, 3, 4, 5, 6, 7, 8, 9, 10, 11, 12, 13, 14, 15, 16, 17, 18, 19, 20]\n"
     ]
    },
    {
     "data": {
      "text/plain": [
       "[2, 3, 5, 7, 11, 13, 17, 19]"
      ]
     },
     "execution_count": 12,
     "metadata": {},
     "output_type": "execute_result"
    }
   ],
   "source": [
    "geraPrimos(20)"
   ]
  },
  {
   "cell_type": "code",
   "execution_count": 28,
   "metadata": {},
   "outputs": [
    {
     "data": {
      "text/plain": [
       "2.0"
      ]
     },
     "execution_count": 28,
     "metadata": {},
     "output_type": "execute_result"
    }
   ],
   "source": [
    " math.sqrt(4)"
   ]
  },
  {
   "cell_type": "code",
   "execution_count": null,
   "metadata": {},
   "outputs": [],
   "source": []
  }
 ],
 "metadata": {
  "kernelspec": {
   "display_name": "Python 3",
   "language": "python",
   "name": "python3"
  },
  "language_info": {
   "codemirror_mode": {
    "name": "ipython",
    "version": 3
   },
   "file_extension": ".py",
   "mimetype": "text/x-python",
   "name": "python",
   "nbconvert_exporter": "python",
   "pygments_lexer": "ipython3",
   "version": "3.5.6"
  }
 },
 "nbformat": 4,
 "nbformat_minor": 2
}
