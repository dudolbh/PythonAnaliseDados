{
 "cells": [
  {
   "cell_type": "markdown",
   "metadata": {},
   "source": [
    "# <font color='blue'>Data Science Academy - Python Fundamentos - Capítulo 7</font>\n",
    "\n",
    "## Download: http://github.com/dsacademybr"
   ]
  },
  {
   "cell_type": "markdown",
   "metadata": {},
   "source": [
    "## Missão: Analisar o Comportamento de Compra de Consumidores."
   ]
  },
  {
   "cell_type": "markdown",
   "metadata": {},
   "source": [
    "## Nível de Dificuldade: Alto"
   ]
  },
  {
   "cell_type": "markdown",
   "metadata": {},
   "source": [
    "Você recebeu a tarefa de analisar os dados de compras de um web site! Os dados estão no formato JSON e disponíveis junto com este notebook.\n",
    "\n",
    "No site, cada usuário efetua login usando sua conta pessoal e pode adquirir produtos à medida que navega pela lista de produtos oferecidos. Cada produto possui um valor de venda. Dados de idade e sexo de cada usuário foram coletados e estão fornecidos no arquivo JSON.\n",
    "\n",
    "Seu trabalho é entregar uma análise de comportamento de compra dos consumidores. Esse é um tipo de atividade comum realizado por Cientistas de Dados e o resultado deste trabalho pode ser usado, por exemplo, para alimentar um modelo de Machine Learning e fazer previsões sobre comportamentos futuros.\n",
    "\n",
    "Mas nesta missão você vai analisar o comportamento de compra dos consumidores usando o pacote Pandas da linguagem Python e seu relatório final deve incluir cada um dos seguintes itens:\n",
    "\n",
    "** Contagem de Consumidores **\n",
    "\n",
    "* Número total de consumidores\n",
    "\n",
    "\n",
    "** Análise Geral de Compras **\n",
    "\n",
    "* Número de itens exclusivos\n",
    "* Preço médio de compra\n",
    "* Número total de compras\n",
    "* Rendimento total\n",
    "\n",
    "\n",
    "** Informações Demográficas Por Gênero **\n",
    "\n",
    "* Porcentagem e contagem de compradores masculinos\n",
    "* Porcentagem e contagem de compradores do sexo feminino\n",
    "* Porcentagem e contagem de outros / não divulgados\n",
    "\n",
    "\n",
    "** Análise de Compras Por Gênero **\n",
    "\n",
    "* Número de compras\n",
    "* Preço médio de compra\n",
    "* Valor Total de Compra\n",
    "* Compras for faixa etária\n",
    "\n",
    "\n",
    "** Identifique os 5 principais compradores pelo valor total de compra e, em seguida, liste (em uma tabela): **\n",
    "\n",
    "* Login\n",
    "* Número de compras\n",
    "* Preço médio de compra\n",
    "* Valor Total de Compra\n",
    "* Itens mais populares\n",
    "\n",
    "\n",
    "** Identifique os 5 itens mais populares por contagem de compras e, em seguida, liste (em uma tabela): **\n",
    "\n",
    "* ID do item\n",
    "* Nome do item\n",
    "* Número de compras\n",
    "* Preço do item\n",
    "* Valor Total de Compra\n",
    "* Itens mais lucrativos\n",
    "\n",
    "\n",
    "** Identifique os 5 itens mais lucrativos pelo valor total de compra e, em seguida, liste (em uma tabela): **\n",
    "\n",
    "* ID do item\n",
    "* Nome do item\n",
    "* Número de compras\n",
    "* Preço do item\n",
    "* Valor Total de Compra\n",
    "\n",
    "\n",
    "** Como considerações finais: **\n",
    "\n",
    "* Seu script deve funcionar para o conjunto de dados fornecido.\n",
    "* Você deve usar a Biblioteca Pandas e o Jupyter Notebook.\n"
   ]
  },
  {
   "cell_type": "code",
   "execution_count": 1,
   "metadata": {},
   "outputs": [],
   "source": [
    "# Imports\n",
    "import pandas as pd\n",
    "import numpy as np"
   ]
  },
  {
   "cell_type": "code",
   "execution_count": 2,
   "metadata": {},
   "outputs": [
    {
     "data": {
      "text/html": [
       "<div>\n",
       "<style scoped>\n",
       "    .dataframe tbody tr th:only-of-type {\n",
       "        vertical-align: middle;\n",
       "    }\n",
       "\n",
       "    .dataframe tbody tr th {\n",
       "        vertical-align: top;\n",
       "    }\n",
       "\n",
       "    .dataframe thead th {\n",
       "        text-align: right;\n",
       "    }\n",
       "</style>\n",
       "<table border=\"1\" class=\"dataframe\">\n",
       "  <thead>\n",
       "    <tr style=\"text-align: right;\">\n",
       "      <th></th>\n",
       "      <th>Idade</th>\n",
       "      <th>Item ID</th>\n",
       "      <th>Login</th>\n",
       "      <th>Nome do Item</th>\n",
       "      <th>Sexo</th>\n",
       "      <th>Valor</th>\n",
       "    </tr>\n",
       "  </thead>\n",
       "  <tbody>\n",
       "    <tr>\n",
       "      <th>0</th>\n",
       "      <td>38</td>\n",
       "      <td>165</td>\n",
       "      <td>Aelalis34</td>\n",
       "      <td>Bone Crushing Silver Skewer</td>\n",
       "      <td>Masculino</td>\n",
       "      <td>3.37</td>\n",
       "    </tr>\n",
       "    <tr>\n",
       "      <th>1</th>\n",
       "      <td>21</td>\n",
       "      <td>119</td>\n",
       "      <td>Eolo46</td>\n",
       "      <td>Stormbringer, Dark Blade of Ending Misery</td>\n",
       "      <td>Masculino</td>\n",
       "      <td>2.32</td>\n",
       "    </tr>\n",
       "    <tr>\n",
       "      <th>2</th>\n",
       "      <td>34</td>\n",
       "      <td>174</td>\n",
       "      <td>Assastnya25</td>\n",
       "      <td>Primitive Blade</td>\n",
       "      <td>Masculino</td>\n",
       "      <td>2.46</td>\n",
       "    </tr>\n",
       "    <tr>\n",
       "      <th>3</th>\n",
       "      <td>21</td>\n",
       "      <td>92</td>\n",
       "      <td>Pheusrical25</td>\n",
       "      <td>Final Critic</td>\n",
       "      <td>Masculino</td>\n",
       "      <td>1.36</td>\n",
       "    </tr>\n",
       "    <tr>\n",
       "      <th>4</th>\n",
       "      <td>23</td>\n",
       "      <td>63</td>\n",
       "      <td>Aela59</td>\n",
       "      <td>Stormfury Mace</td>\n",
       "      <td>Masculino</td>\n",
       "      <td>1.27</td>\n",
       "    </tr>\n",
       "  </tbody>\n",
       "</table>\n",
       "</div>"
      ],
      "text/plain": [
       "   Idade  Item ID         Login                               Nome do Item  \\\n",
       "0     38      165     Aelalis34                Bone Crushing Silver Skewer   \n",
       "1     21      119        Eolo46  Stormbringer, Dark Blade of Ending Misery   \n",
       "2     34      174   Assastnya25                            Primitive Blade   \n",
       "3     21       92  Pheusrical25                               Final Critic   \n",
       "4     23       63        Aela59                             Stormfury Mace   \n",
       "\n",
       "        Sexo  Valor  \n",
       "0  Masculino   3.37  \n",
       "1  Masculino   2.32  \n",
       "2  Masculino   2.46  \n",
       "3  Masculino   1.36  \n",
       "4  Masculino   1.27  "
      ]
     },
     "execution_count": 2,
     "metadata": {},
     "output_type": "execute_result"
    }
   ],
   "source": [
    "# Carrega o arquivo\n",
    "load_file = \"dados_compras.json\"\n",
    "purchase_file = pd.read_json(load_file, orient = \"records\")\n",
    "purchase_file.head()"
   ]
  },
  {
   "cell_type": "code",
   "execution_count": 3,
   "metadata": {},
   "outputs": [
    {
     "data": {
      "text/html": [
       "<div>\n",
       "<style scoped>\n",
       "    .dataframe tbody tr th:only-of-type {\n",
       "        vertical-align: middle;\n",
       "    }\n",
       "\n",
       "    .dataframe tbody tr th {\n",
       "        vertical-align: top;\n",
       "    }\n",
       "\n",
       "    .dataframe thead th {\n",
       "        text-align: right;\n",
       "    }\n",
       "</style>\n",
       "<table border=\"1\" class=\"dataframe\">\n",
       "  <thead>\n",
       "    <tr style=\"text-align: right;\">\n",
       "      <th></th>\n",
       "      <th>Idade</th>\n",
       "      <th>Item ID</th>\n",
       "      <th>Login</th>\n",
       "      <th>Nome do Item</th>\n",
       "      <th>Sexo</th>\n",
       "      <th>Valor</th>\n",
       "    </tr>\n",
       "  </thead>\n",
       "  <tbody>\n",
       "    <tr>\n",
       "      <th>0</th>\n",
       "      <td>38</td>\n",
       "      <td>165</td>\n",
       "      <td>Aelalis34</td>\n",
       "      <td>Bone Crushing Silver Skewer</td>\n",
       "      <td>Masculino</td>\n",
       "      <td>3.37</td>\n",
       "    </tr>\n",
       "    <tr>\n",
       "      <th>1</th>\n",
       "      <td>21</td>\n",
       "      <td>119</td>\n",
       "      <td>Eolo46</td>\n",
       "      <td>Stormbringer, Dark Blade of Ending Misery</td>\n",
       "      <td>Masculino</td>\n",
       "      <td>2.32</td>\n",
       "    </tr>\n",
       "    <tr>\n",
       "      <th>2</th>\n",
       "      <td>34</td>\n",
       "      <td>174</td>\n",
       "      <td>Assastnya25</td>\n",
       "      <td>Primitive Blade</td>\n",
       "      <td>Masculino</td>\n",
       "      <td>2.46</td>\n",
       "    </tr>\n",
       "    <tr>\n",
       "      <th>3</th>\n",
       "      <td>21</td>\n",
       "      <td>92</td>\n",
       "      <td>Pheusrical25</td>\n",
       "      <td>Final Critic</td>\n",
       "      <td>Masculino</td>\n",
       "      <td>1.36</td>\n",
       "    </tr>\n",
       "    <tr>\n",
       "      <th>4</th>\n",
       "      <td>23</td>\n",
       "      <td>63</td>\n",
       "      <td>Aela59</td>\n",
       "      <td>Stormfury Mace</td>\n",
       "      <td>Masculino</td>\n",
       "      <td>1.27</td>\n",
       "    </tr>\n",
       "  </tbody>\n",
       "</table>\n",
       "</div>"
      ],
      "text/plain": [
       "   Idade  Item ID         Login                               Nome do Item  \\\n",
       "0     38      165     Aelalis34                Bone Crushing Silver Skewer   \n",
       "1     21      119        Eolo46  Stormbringer, Dark Blade of Ending Misery   \n",
       "2     34      174   Assastnya25                            Primitive Blade   \n",
       "3     21       92  Pheusrical25                               Final Critic   \n",
       "4     23       63        Aela59                             Stormfury Mace   \n",
       "\n",
       "        Sexo  Valor  \n",
       "0  Masculino   3.37  \n",
       "1  Masculino   2.32  \n",
       "2  Masculino   2.46  \n",
       "3  Masculino   1.36  \n",
       "4  Masculino   1.27  "
      ]
     },
     "execution_count": 3,
     "metadata": {},
     "output_type": "execute_result"
    }
   ],
   "source": [
    "#Criando um dataframe para trabalhar com os dados\n",
    "df = pd.DataFrame(purchase_file)\n",
    "df.head(5)"
   ]
  },
  {
   "cell_type": "markdown",
   "metadata": {},
   "source": [
    "## Informações Sobre os Consumidores"
   ]
  },
  {
   "cell_type": "code",
   "execution_count": 4,
   "metadata": {},
   "outputs": [
    {
     "name": "stdout",
     "output_type": "stream",
     "text": [
      "Numero total de consumidores unicos:  573\n"
     ]
    }
   ],
   "source": [
    "# Implemente aqui sua solução\n",
    "#** Contagem de Consumidores **\n",
    "#Número total de consumidores\n",
    "total = len(df['Login'].unique().tolist()) #tolist() transforma o array em uma lista.\n",
    "print('Numero total de consumidores unicos: ',total)\n"
   ]
  },
  {
   "cell_type": "markdown",
   "metadata": {},
   "source": [
    "## Análise Geral de Compras"
   ]
  },
  {
   "cell_type": "code",
   "execution_count": 28,
   "metadata": {},
   "outputs": [
    {
     "name": "stdout",
     "output_type": "stream",
     "text": [
      "1 - Número de itens exclusivos:  179 \n",
      "\n",
      "2 - Preço médio de compra: 2.93 \n",
      "\n",
      "3 - Número total de compras:  780 \n",
      "\n",
      "4 - Rendimento total: 2286.33 \n"
     ]
    }
   ],
   "source": [
    "#Número de itens exclusivos\n",
    "total = len(df['Nome do Item'].unique().tolist()) #tolist() transforma o array em uma lista.\n",
    "print('1 - Número de itens exclusivos: ',total,'\\n')\n",
    "\n",
    "#Preço médio de compra\n",
    "medio = df['Valor'].mean()\n",
    "print('2 - Preço médio de compra: %.2f \\n' % medio)\n",
    "    \n",
    "#Número total de compras\n",
    "total = len(df.index)\n",
    "print('3 - Número total de compras: ',total,'\\n')\n",
    "\n",
    "#Rendimento total\n",
    "soma = df['Valor'].sum()\n",
    "print('4 - Rendimento total: %.2f ' % soma)"
   ]
  },
  {
   "cell_type": "markdown",
   "metadata": {},
   "source": [
    "## Análise Demográfica"
   ]
  },
  {
   "cell_type": "markdown",
   "metadata": {},
   "source": [
    "## Informações Demográficas Por Gênero"
   ]
  },
  {
   "cell_type": "code",
   "execution_count": 60,
   "metadata": {},
   "outputs": [
    {
     "name": "stdout",
     "output_type": "stream",
     "text": [
      "Compradores do sexo masculino:\n",
      "Percentual: 81.15%\n",
      "Quantidade:  633\n",
      "\n",
      "Compradores do sexo feminino:\n",
      "Percentual: 17.44%\n",
      "Quantidade:  136\n",
      "\n",
      "Compradores do sexo outros / não divulgados:\n",
      "Percentual: 1.41%\n",
      "Quantidade:  11\n"
     ]
    }
   ],
   "source": [
    "#** Informações Demográficas Por Gênero **\n",
    "#Porcentagem e contagem de compradores masculinos\n",
    "#Funcao para cada linha testa o valor da coluna e retorna um boleano\n",
    "serie_masculino = df.apply(lambda x: True if x['Sexo'] == 'Masculino' else False , axis=1)\n",
    "qtd_compras_men = len(serie_masculino[serie_masculino == True].index)\n",
    "total = len(df.index)\n",
    "percentual = (qtd_compras_men / total) * 100\n",
    "print('Compradores do sexo masculino:')\n",
    "print('Percentual: %.2f' % percentual + \"%\")\n",
    "print('Quantidade: ', qtd_compras_men)\n",
    "\n",
    "#Porcentagem e contagem de compradores do sexo feminino\n",
    "serie_feminino = df.apply(lambda x: True if x['Sexo'] == 'Feminino' else False , axis=1)\n",
    "qtd_compras_girl = len(serie_feminino[serie_feminino == True].index)\n",
    "total = len(df.index)\n",
    "percentual = (qtd_compras_girl / total) * 100\n",
    "print('\\nCompradores do sexo feminino:')\n",
    "print('Percentual: %.2f' % percentual + \"%\")\n",
    "print('Quantidade: ', qtd_compras_girl)\n",
    "\n",
    "#Porcentagem e contagem de outros / não divulgados\n",
    "serie_outro = df.apply(lambda x: True if x['Sexo'] not in('Feminino','Masculino') else False , axis=1)\n",
    "qtd_compras_outro = len(serie_outro[serie_outro == True].index)\n",
    "total = len(df.index)\n",
    "percentual = (qtd_compras_outro / total) * 100\n",
    "print('\\nCompradores do sexo outros / não divulgados:')\n",
    "print('Percentual: %.2f' % percentual + \"%\")\n",
    "print('Quantidade: ', qtd_compras_outro)"
   ]
  },
  {
   "cell_type": "markdown",
   "metadata": {},
   "source": [
    "## Análise de Compras Por Gênero"
   ]
  },
  {
   "cell_type": "code",
   "execution_count": 119,
   "metadata": {},
   "outputs": [
    {
     "name": "stdout",
     "output_type": "stream",
     "text": [
      "Numeros de compras por genero:\n",
      "Sexo\n",
      "Feminino                 136\n",
      "Masculino                633\n",
      "Outro / Não Divulgado     11\n",
      "\n",
      "Preço médio de compra:\n",
      "Sexo\n",
      "Feminino                 2.815515\n",
      "Masculino                2.950521\n",
      "Outro / Não Divulgado    3.249091\n",
      "\n",
      "Valor Total de Compra:\n",
      "Sexo\n",
      "Feminino                  382.91\n",
      "Masculino                1867.68\n",
      "Outro / Não Divulgado      35.74\n"
     ]
    }
   ],
   "source": [
    "#** Análise de Compras Por Gênero **\n",
    "#Número de compras\n",
    "total_compras = df.groupby('Sexo').count().Login\n",
    "print('Numeros de compras por genero:')\n",
    "print(total_compras.to_string())\n",
    "\n",
    "#Preço médio de compra\n",
    "preco_medio = df.groupby('Sexo').mean().Valor\n",
    "print('\\nPreço médio de compra:')\n",
    "print(preco_medio.to_string())\n",
    "\n",
    "#Valor Total de Compra\n",
    "preco_total = df.groupby('Sexo').sum().Valor\n",
    "print('\\nValor Total de Compra:')\n",
    "print(preco_total.to_string())\n",
    "\n"
   ]
  },
  {
   "cell_type": "code",
   "execution_count": 103,
   "metadata": {},
   "outputs": [],
   "source": [
    "#funcao para definir a faixa\n",
    "def faixaEtaria(idade):\n",
    "  if idade <= 14: return 'Crianças (de 0 a 14 anos)'\n",
    "  elif 14 > idade <= 24: return 'Jovens (de 15 a 24 anos)'\n",
    "  elif 24 > idade <= 64: return 'Adultos (de 25 a 64 anos)'\n",
    "  else: return 'Idosos (a partir de 65 anos)'"
   ]
  },
  {
   "cell_type": "code",
   "execution_count": 117,
   "metadata": {},
   "outputs": [],
   "source": [
    "#aplicacao da funcao\n",
    "faixa = lambda x: faixaEtaria(x)\n",
    "#cria uma nova coluna chamada Faixa\n",
    "df['Faixa'] = df['Idade'].map(faixa)"
   ]
  },
  {
   "cell_type": "code",
   "execution_count": 118,
   "metadata": {},
   "outputs": [
    {
     "name": "stdout",
     "output_type": "stream",
     "text": [
      "\n",
      "Compras for faixa etária:\n",
      "Sexo                   Faixa                       \n",
      "Feminino               Adultos (de 25 a 64 anos)        64\n",
      "                       Crianças (de 0 a 14 anos)        15\n",
      "                       Idosos (a partir de 65 anos)     57\n",
      "Masculino              Adultos (de 25 a 64 anos)       333\n",
      "                       Crianças (de 0 a 14 anos)        47\n",
      "                       Idosos (a partir de 65 anos)    253\n",
      "Outro / Não Divulgado  Adultos (de 25 a 64 anos)         2\n",
      "                       Crianças (de 0 a 14 anos)         1\n",
      "                       Idosos (a partir de 65 anos)      8\n"
     ]
    }
   ],
   "source": [
    "#Compras for faixa etária\n",
    "compra_idade = df.groupby(['Sexo','Faixa']).count().Login\n",
    "print('\\nCompras for faixa etária:')\n",
    "print(compra_idade.to_string())"
   ]
  },
  {
   "cell_type": "markdown",
   "metadata": {},
   "source": [
    "## Consumidores Mais Populares (Top 5)"
   ]
  },
  {
   "cell_type": "code",
   "execution_count": 122,
   "metadata": {},
   "outputs": [],
   "source": [
    "#tratando o nome das colunas:\n",
    "df.columns = df.columns.str.strip().str.lower().str.replace(' ', '_').str.replace('(', '').str.replace(')', '')"
   ]
  },
  {
   "cell_type": "markdown",
   "metadata": {},
   "source": [
    "## Identifique os 5 principais compradores pelo valor total de compra e, em seguida, liste (em uma tabela): **\n",
    "* Login\n",
    "* Número de compras\n",
    "* Preço médio de compra\n",
    "* Valor Total de Compra\n",
    "* Itens mais populares"
   ]
  },
  {
   "cell_type": "code",
   "execution_count": null,
   "metadata": {},
   "outputs": [],
   "source": [
    "#Agrupando pela quantidade de ocorrencias\n",
    "top_clientes=df.groupby(['login']).count().item_id\n",
    "#buscando a lista dos 5 maiores (nlagest()) e buscando o nome do cliente (index)\n",
    "top_clientes = top_clientes.nlargest(5).index.tolist()\n",
    "print(top_clientes)\n",
    "#top_clientes.sort(['pidx','score'],ascending = False)"
   ]
  },
  {
   "cell_type": "code",
   "execution_count": null,
   "metadata": {},
   "outputs": [],
   "source": [
    " #Filtrando os dataframe pela lista.\n",
    "df_top_cli=df[df['login'].isin(top_clientes)]"
   ]
  },
  {
   "cell_type": "code",
   "execution_count": null,
   "metadata": {},
   "outputs": [],
   "source": [
    "df_top_cli"
   ]
  },
  {
   "cell_type": "code",
   "execution_count": 203,
   "metadata": {},
   "outputs": [
    {
     "name": "stdout",
     "output_type": "stream",
     "text": [
      "Número de compras:\n",
      "login\n",
      "Hailaphos89    4\n",
      "Mindimnya67    4\n",
      "Qarwen67       4\n",
      "Saedue76       4\n",
      "Undirrala66    5\n",
      "\n",
      "Preço médio de compra:\n",
      "login\n",
      "Hailaphos89    1.4675\n",
      "Mindimnya67    3.1850\n",
      "Qarwen67       2.4925\n",
      "Saedue76       3.3900\n",
      "Undirrala66    3.4120\n",
      "\n",
      "Valor Total de Compra:\n",
      "login\n",
      "Hailaphos89     5.87\n",
      "Mindimnya67    12.74\n",
      "Qarwen67        9.97\n",
      "Saedue76       13.56\n",
      "Undirrala66    17.06\n"
     ]
    }
   ],
   "source": [
    "#Número de compras\n",
    "total_compras = df_top_cli.groupby('login').count().item_id\n",
    "print('Número de compras:')\n",
    "print(total_compras.to_string())\n",
    "\n",
    "#Preço médio de compra\n",
    "media_compras = df_top_cli.groupby('login').mean().valor\n",
    "print('\\nPreço médio de compra:')\n",
    "print(media_compras.to_string())\n",
    "\n",
    "#Valor Total de Compra\n",
    "preco_total = df_top_cli.groupby('login').sum().valor\n",
    "print('\\nValor Total de Compra:')\n",
    "print(preco_total.to_string())\n"
   ]
  },
  {
   "cell_type": "code",
   "execution_count": 228,
   "metadata": {},
   "outputs": [
    {
     "data": {
      "text/plain": [
       "MultiIndex(levels=[['Hailaphos89', 'Mindimnya67', 'Qarwen67', 'Saedue76', 'Undirrala66'], ['Azurewrath', 'Blood Infused Guardian', 'Conqueror Adamantite Mace', 'Devine', 'Faith's Scimitar', 'Fiery Glass Crusader', 'Netherbane', 'Nirvana', 'Piece Maker', 'Relentless Iron Skewer', 'Ritual Mace', 'Serenity', 'Spectral Diamond Doomblade', 'Striker', 'The Void, Vengeance of Dark Magic', 'Thorn, Satchel of Dark Souls', 'Thunderfury Scimitar', 'Torchlight, Bond of Storms', 'Trickster', 'Unending Tyranny']],\n",
       "           labels=[[0], [6]],\n",
       "           names=['login', 'nome_do_item'])"
      ]
     },
     "execution_count": 228,
     "metadata": {},
     "output_type": "execute_result"
    }
   ],
   "source": [
    "#Itens mais populares\n",
    "#Agrupando pela quantidade de ocorrencias\n",
    "top_itens_by_clientes=df_top_cli.groupby(['login','nome_do_item']).count().item_id\n",
    "#buscando a lista dos 5 maiores (nlagest()) e buscando o nome do cliente (index)\n",
    "top_itens_by_clientes = top_itens_by_clientes.nlargest(1)#.index.tolist()\n",
    "top_itens_by_clientes.index\n",
    "#Itens mais populares\n",
    "#print('Itens mais populares:', top_itens_by_clientes[0] )"
   ]
  },
  {
   "cell_type": "code",
   "execution_count": 224,
   "metadata": {},
   "outputs": [
    {
     "data": {
      "text/plain": [
       "Index(['Hailaphos89', 'Mindimnya67', 'Qarwen67', 'Saedue76', 'Undirrala66'], dtype='object', name='login')"
      ]
     },
     "execution_count": 224,
     "metadata": {},
     "output_type": "execute_result"
    }
   ],
   "source": [
    "total_compras.index"
   ]
  },
  {
   "cell_type": "code",
   "execution_count": 207,
   "metadata": {},
   "outputs": [],
   "source": [
    "#tabela\n",
    "df_resultado = total_compras.index.to_frame()\n",
    "\n"
   ]
  },
  {
   "cell_type": "code",
   "execution_count": 212,
   "metadata": {},
   "outputs": [],
   "source": [
    "df_resultado['compras'] = total_compras\n",
    "df_resultado['medio'] = media_compras\n",
    "df_resultado['total'] = preco_total\n",
    "df_resultado['total'] = preco_total"
   ]
  },
  {
   "cell_type": "code",
   "execution_count": null,
   "metadata": {},
   "outputs": [],
   "source": [
    "#df_resultado['popular'] = top_itens_by_clientes"
   ]
  },
  {
   "cell_type": "code",
   "execution_count": 229,
   "metadata": {},
   "outputs": [
    {
     "data": {
      "text/html": [
       "<div>\n",
       "<style scoped>\n",
       "    .dataframe tbody tr th:only-of-type {\n",
       "        vertical-align: middle;\n",
       "    }\n",
       "\n",
       "    .dataframe tbody tr th {\n",
       "        vertical-align: top;\n",
       "    }\n",
       "\n",
       "    .dataframe thead th {\n",
       "        text-align: right;\n",
       "    }\n",
       "</style>\n",
       "<table border=\"1\" class=\"dataframe\">\n",
       "  <thead>\n",
       "    <tr style=\"text-align: right;\">\n",
       "      <th></th>\n",
       "      <th>login</th>\n",
       "      <th>compras</th>\n",
       "      <th>medio</th>\n",
       "      <th>total</th>\n",
       "    </tr>\n",
       "    <tr>\n",
       "      <th>login</th>\n",
       "      <th></th>\n",
       "      <th></th>\n",
       "      <th></th>\n",
       "      <th></th>\n",
       "    </tr>\n",
       "  </thead>\n",
       "  <tbody>\n",
       "    <tr>\n",
       "      <th>Hailaphos89</th>\n",
       "      <td>Hailaphos89</td>\n",
       "      <td>4</td>\n",
       "      <td>1.4675</td>\n",
       "      <td>5.87</td>\n",
       "    </tr>\n",
       "    <tr>\n",
       "      <th>Mindimnya67</th>\n",
       "      <td>Mindimnya67</td>\n",
       "      <td>4</td>\n",
       "      <td>3.1850</td>\n",
       "      <td>12.74</td>\n",
       "    </tr>\n",
       "    <tr>\n",
       "      <th>Qarwen67</th>\n",
       "      <td>Qarwen67</td>\n",
       "      <td>4</td>\n",
       "      <td>2.4925</td>\n",
       "      <td>9.97</td>\n",
       "    </tr>\n",
       "    <tr>\n",
       "      <th>Saedue76</th>\n",
       "      <td>Saedue76</td>\n",
       "      <td>4</td>\n",
       "      <td>3.3900</td>\n",
       "      <td>13.56</td>\n",
       "    </tr>\n",
       "    <tr>\n",
       "      <th>Undirrala66</th>\n",
       "      <td>Undirrala66</td>\n",
       "      <td>5</td>\n",
       "      <td>3.4120</td>\n",
       "      <td>17.06</td>\n",
       "    </tr>\n",
       "  </tbody>\n",
       "</table>\n",
       "</div>"
      ],
      "text/plain": [
       "                   login  compras   medio  total\n",
       "login                                           \n",
       "Hailaphos89  Hailaphos89        4  1.4675   5.87\n",
       "Mindimnya67  Mindimnya67        4  3.1850  12.74\n",
       "Qarwen67        Qarwen67        4  2.4925   9.97\n",
       "Saedue76        Saedue76        4  3.3900  13.56\n",
       "Undirrala66  Undirrala66        5  3.4120  17.06"
      ]
     },
     "execution_count": 229,
     "metadata": {},
     "output_type": "execute_result"
    }
   ],
   "source": [
    "df_resultado"
   ]
  },
  {
   "cell_type": "markdown",
   "metadata": {},
   "source": [
    "## Itens Mais Populares"
   ]
  },
  {
   "cell_type": "markdown",
   "metadata": {},
   "source": [
    "** Identifique os 5 itens mais populares por contagem de compras e, em seguida, liste (em uma tabela): **\n",
    "\n",
    "* ID do item\n",
    "* Nome do item\n",
    "* Número de compras\n",
    "* Preço do item\n",
    "* Valor Total de Compra\n",
    "* Itens mais lucrativos"
   ]
  },
  {
   "cell_type": "code",
   "execution_count": 232,
   "metadata": {},
   "outputs": [
    {
     "data": {
      "text/html": [
       "<div>\n",
       "<style scoped>\n",
       "    .dataframe tbody tr th:only-of-type {\n",
       "        vertical-align: middle;\n",
       "    }\n",
       "\n",
       "    .dataframe tbody tr th {\n",
       "        vertical-align: top;\n",
       "    }\n",
       "\n",
       "    .dataframe thead th {\n",
       "        text-align: right;\n",
       "    }\n",
       "</style>\n",
       "<table border=\"1\" class=\"dataframe\">\n",
       "  <thead>\n",
       "    <tr style=\"text-align: right;\">\n",
       "      <th></th>\n",
       "      <th>idade</th>\n",
       "      <th>item_id</th>\n",
       "      <th>login</th>\n",
       "      <th>nome_do_item</th>\n",
       "      <th>sexo</th>\n",
       "      <th>valor</th>\n",
       "      <th>faixa</th>\n",
       "    </tr>\n",
       "  </thead>\n",
       "  <tbody>\n",
       "    <tr>\n",
       "      <th>0</th>\n",
       "      <td>38</td>\n",
       "      <td>165</td>\n",
       "      <td>Aelalis34</td>\n",
       "      <td>Bone Crushing Silver Skewer</td>\n",
       "      <td>Masculino</td>\n",
       "      <td>3.37</td>\n",
       "      <td>Idosos (a partir de 65 anos)</td>\n",
       "    </tr>\n",
       "    <tr>\n",
       "      <th>1</th>\n",
       "      <td>21</td>\n",
       "      <td>119</td>\n",
       "      <td>Eolo46</td>\n",
       "      <td>Stormbringer, Dark Blade of Ending Misery</td>\n",
       "      <td>Masculino</td>\n",
       "      <td>2.32</td>\n",
       "      <td>Adultos (de 25 a 64 anos)</td>\n",
       "    </tr>\n",
       "  </tbody>\n",
       "</table>\n",
       "</div>"
      ],
      "text/plain": [
       "   idade  item_id      login                               nome_do_item  \\\n",
       "0     38      165  Aelalis34                Bone Crushing Silver Skewer   \n",
       "1     21      119     Eolo46  Stormbringer, Dark Blade of Ending Misery   \n",
       "\n",
       "        sexo  valor                         faixa  \n",
       "0  Masculino   3.37  Idosos (a partir de 65 anos)  \n",
       "1  Masculino   2.32     Adultos (de 25 a 64 anos)  "
      ]
     },
     "execution_count": 232,
     "metadata": {},
     "output_type": "execute_result"
    }
   ],
   "source": [
    "df.head(2)"
   ]
  },
  {
   "cell_type": "code",
   "execution_count": 233,
   "metadata": {},
   "outputs": [
    {
     "name": "stdout",
     "output_type": "stream",
     "text": [
      "[39, 84, 13, 31, 34]\n"
     ]
    }
   ],
   "source": [
    "#Agrupando pela quantidade de ocorrencias\n",
    "top_produtos=df.groupby(['item_id']).count().nome_do_item\n",
    "#buscando a lista dos 5 maiores (nlagest()) e buscando o nome do cliente (index)\n",
    "top_produtos = top_produtos.nlargest(5).index.tolist()\n",
    "print(top_produtos)\n",
    "#top_clientes.sort(['pidx','score'],ascending = False)"
   ]
  },
  {
   "cell_type": "code",
   "execution_count": 234,
   "metadata": {},
   "outputs": [],
   "source": [
    " #Filtrando os dataframe pela lista.\n",
    "df_top_prd=df[df['item_id'].isin(top_produtos)]"
   ]
  },
  {
   "cell_type": "code",
   "execution_count": 238,
   "metadata": {},
   "outputs": [
    {
     "data": {
      "text/html": [
       "<div>\n",
       "<style scoped>\n",
       "    .dataframe tbody tr th:only-of-type {\n",
       "        vertical-align: middle;\n",
       "    }\n",
       "\n",
       "    .dataframe tbody tr th {\n",
       "        vertical-align: top;\n",
       "    }\n",
       "\n",
       "    .dataframe thead th {\n",
       "        text-align: right;\n",
       "    }\n",
       "</style>\n",
       "<table border=\"1\" class=\"dataframe\">\n",
       "  <thead>\n",
       "    <tr style=\"text-align: right;\">\n",
       "      <th></th>\n",
       "      <th>idade</th>\n",
       "      <th>item_id</th>\n",
       "      <th>login</th>\n",
       "      <th>nome_do_item</th>\n",
       "      <th>sexo</th>\n",
       "      <th>valor</th>\n",
       "      <th>faixa</th>\n",
       "    </tr>\n",
       "  </thead>\n",
       "  <tbody>\n",
       "    <tr>\n",
       "      <th>35</th>\n",
       "      <td>21</td>\n",
       "      <td>13</td>\n",
       "      <td>Aisur51</td>\n",
       "      <td>Serenity</td>\n",
       "      <td>Feminino</td>\n",
       "      <td>1.49</td>\n",
       "      <td>Adultos (de 25 a 64 anos)</td>\n",
       "    </tr>\n",
       "    <tr>\n",
       "      <th>56</th>\n",
       "      <td>23</td>\n",
       "      <td>31</td>\n",
       "      <td>Marilsasya33</td>\n",
       "      <td>Trickster</td>\n",
       "      <td>Masculino</td>\n",
       "      <td>2.07</td>\n",
       "      <td>Adultos (de 25 a 64 anos)</td>\n",
       "    </tr>\n",
       "  </tbody>\n",
       "</table>\n",
       "</div>"
      ],
      "text/plain": [
       "    idade  item_id         login nome_do_item       sexo  valor  \\\n",
       "35     21       13       Aisur51     Serenity   Feminino   1.49   \n",
       "56     23       31  Marilsasya33    Trickster  Masculino   2.07   \n",
       "\n",
       "                        faixa  \n",
       "35  Adultos (de 25 a 64 anos)  \n",
       "56  Adultos (de 25 a 64 anos)  "
      ]
     },
     "execution_count": 238,
     "metadata": {},
     "output_type": "execute_result"
    }
   ],
   "source": [
    "df_top_prd.head(2)"
   ]
  },
  {
   "cell_type": "markdown",
   "metadata": {},
   "source": [
    "## Itens Mais Lucrativos"
   ]
  },
  {
   "cell_type": "code",
   "execution_count": null,
   "metadata": {},
   "outputs": [],
   "source": [
    "# Implemente aqui sua solução"
   ]
  },
  {
   "cell_type": "markdown",
   "metadata": {
    "collapsed": true
   },
   "source": [
    "## Fim"
   ]
  },
  {
   "cell_type": "markdown",
   "metadata": {
    "collapsed": true
   },
   "source": [
    "### Obrigado - Data Science Academy - <a href=\"http://facebook.com/dsacademybr\">facebook.com/dsacademybr</a>"
   ]
  }
 ],
 "metadata": {
  "kernelspec": {
   "display_name": "Python 3",
   "language": "python",
   "name": "python3"
  },
  "language_info": {
   "codemirror_mode": {
    "name": "ipython",
    "version": 3
   },
   "file_extension": ".py",
   "mimetype": "text/x-python",
   "name": "python",
   "nbconvert_exporter": "python",
   "pygments_lexer": "ipython3",
   "version": "3.5.6"
  }
 },
 "nbformat": 4,
 "nbformat_minor": 2
}
