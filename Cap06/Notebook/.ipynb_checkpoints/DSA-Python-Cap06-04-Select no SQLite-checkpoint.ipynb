{
 "cells": [
  {
   "cell_type": "markdown",
   "metadata": {},
   "source": [
    "# <font color='blue'>Data Science Academy - Python Fundamentos - Capítulo 6</font>\n",
    "\n",
    "## Download: http://github.com/dsacademybr"
   ]
  },
  {
   "cell_type": "markdown",
   "metadata": {},
   "source": [
    "### Leitura de dados"
   ]
  },
  {
   "cell_type": "code",
   "execution_count": 1,
   "metadata": {},
   "outputs": [],
   "source": [
    "import MySQLdb as mysql\n",
    "#Criar uma conexão com o Mysql do google cloud:\n",
    "CLOUDSQL_CONNECTION_NAME = 'treinamentos-python:southamerica-east1:treinamento'\n",
    "CLOUDSQL_USER = 'root'\n",
    "CLOUDSQL_PASSWORD = 'treina123'\n",
    "DATA_BASE = 'dsa'\n",
    "conn = mysql.connect(host='35.247.208.205', user=CLOUDSQL_USER, passwd=CLOUDSQL_PASSWORD, database = DATA_BASE)"
   ]
  },
  {
   "cell_type": "code",
   "execution_count": 4,
   "metadata": {},
   "outputs": [],
   "source": [
    "#import sqlite3\n",
    "import random\n",
    "import time\n",
    "import datetime\n",
    " \n",
    "# Criando uma conexão\n",
    "#conn = sqlite3.connect('dsa.db')   \n",
    "\n",
    "# Criando um cursor\n",
    "c = conn.cursor()\n",
    " \n",
    "# Função para criar uma tabela\n",
    "def create_table():\n",
    "    c.execute('CREATE TABLE IF NOT EXISTS produtos(id INTEGER PRIMARY KEY AUTO_INCREMENT NOT NULL, date TEXT, '\\\n",
    "              'prod_name TEXT, valor REAL)')\n",
    "\n",
    "# Função para inserir uma linha\n",
    "def data_insert():\n",
    "    c.execute(\"INSERT INTO produtos VALUES(002, '02-05-2016', 'teclado', 130 )\")\n",
    "    conn.commit()\n",
    "    c.close()\n",
    "    conn.close()\n",
    "    \n",
    "# Usando variáveis para inserir dados    \n",
    "def data_insert_var():\n",
    "    new_date = datetime.datetime.now()\n",
    "    new_prod_name = 'monitor'\n",
    "    new_valor = random.randrange(50,100)\n",
    "    c.execute(\"INSERT INTO produtos (date, prod_name, valor) VALUES (%s, %s, %s)\", \n",
    "              (new_date, new_prod_name, new_valor))\n",
    "    conn.commit()\n",
    "    \n",
    "# Leitura de dados\n",
    "def leitura_todos_dados():\n",
    "    c.execute(\"SELECT * FROM produtos\")\n",
    "    for linha in c.fetchall():\n",
    "        print(linha)\n",
    "        \n",
    "# Leitura de registros específicos\n",
    "def leitura_registros():\n",
    "    c.execute(\"SELECT * FROM produtos WHERE valor > 60.0\")\n",
    "    for linha in c.fetchall():\n",
    "        print(linha)      \n",
    "        \n",
    "# Leitura de colunas específicos\n",
    "def leitura_colunas():\n",
    "    c.execute(\"SELECT * FROM produtos\")\n",
    "    for linha in c.fetchall():\n",
    "        print(linha[3])         \n"
   ]
  },
  {
   "cell_type": "code",
   "execution_count": 5,
   "metadata": {},
   "outputs": [
    {
     "name": "stdout",
     "output_type": "stream",
     "text": [
      "(11, '2019-06-24 18:06:32.026157', 'Monitor', 69.0)\n",
      "(12, '2019-06-24 18:06:33.036318', 'Monitor', 79.0)\n",
      "(13, '2019-06-24 18:06:34.043928', 'Monitor', 52.0)\n",
      "(14, '2019-06-24 18:06:35.051198', 'Monitor', 69.0)\n",
      "(15, '2019-06-24 18:06:36.059252', 'Monitor', 51.0)\n",
      "(16, '2019-06-24 18:06:37.067147', 'Monitor', 81.0)\n",
      "(17, '2019-06-24 18:06:38.074232', 'Monitor', 66.0)\n",
      "(18, '2019-06-24 18:06:39.082126', 'Monitor', 58.0)\n",
      "(19, '2019-06-24 18:06:40.089346', 'Monitor', 96.0)\n",
      "(20, '2019-06-24 18:06:41.097123', 'Monitor', 61.0)\n"
     ]
    }
   ],
   "source": [
    "# Select nos dados\n",
    "leitura_todos_dados()"
   ]
  },
  {
   "cell_type": "code",
   "execution_count": 6,
   "metadata": {},
   "outputs": [
    {
     "name": "stdout",
     "output_type": "stream",
     "text": [
      "(11, '2019-06-24 18:06:32.026157', 'Monitor', 69.0)\n",
      "(12, '2019-06-24 18:06:33.036318', 'Monitor', 79.0)\n",
      "(14, '2019-06-24 18:06:35.051198', 'Monitor', 69.0)\n",
      "(16, '2019-06-24 18:06:37.067147', 'Monitor', 81.0)\n",
      "(17, '2019-06-24 18:06:38.074232', 'Monitor', 66.0)\n",
      "(19, '2019-06-24 18:06:40.089346', 'Monitor', 96.0)\n",
      "(20, '2019-06-24 18:06:41.097123', 'Monitor', 61.0)\n"
     ]
    }
   ],
   "source": [
    "# Leitura de registros específicos\n",
    "leitura_registros()"
   ]
  },
  {
   "cell_type": "code",
   "execution_count": 7,
   "metadata": {},
   "outputs": [
    {
     "name": "stdout",
     "output_type": "stream",
     "text": [
      "69.0\n",
      "79.0\n",
      "52.0\n",
      "69.0\n",
      "51.0\n",
      "81.0\n",
      "66.0\n",
      "58.0\n",
      "96.0\n",
      "61.0\n"
     ]
    }
   ],
   "source": [
    "# Leitura de colunas específicas\n",
    "leitura_colunas()"
   ]
  },
  {
   "cell_type": "code",
   "execution_count": 8,
   "metadata": {},
   "outputs": [],
   "source": [
    "# Encerrando a conexão\n",
    "c.close()\n",
    "conn.close()"
   ]
  },
  {
   "cell_type": "markdown",
   "metadata": {},
   "source": [
    "# Fim"
   ]
  },
  {
   "cell_type": "markdown",
   "metadata": {},
   "source": [
    "### Obrigado - Data Science Academy - <a href=\"http://facebook.com/dsacademybr\">facebook.com/dsacademybr</a>"
   ]
  }
 ],
 "metadata": {
  "kernelspec": {
   "display_name": "Python 3",
   "language": "python",
   "name": "python3"
  },
  "language_info": {
   "codemirror_mode": {
    "name": "ipython",
    "version": 3
   },
   "file_extension": ".py",
   "mimetype": "text/x-python",
   "name": "python",
   "nbconvert_exporter": "python",
   "pygments_lexer": "ipython3",
   "version": "3.5.6"
  }
 },
 "nbformat": 4,
 "nbformat_minor": 1
}
