{
 "cells": [
  {
   "cell_type": "markdown",
   "metadata": {},
   "source": [
    "Teste MySql"
   ]
  },
  {
   "cell_type": "code",
   "execution_count": 8,
   "metadata": {},
   "outputs": [],
   "source": [
    "import os\n",
    "import MySQLdb\n",
    "#import webapp2"
   ]
  },
  {
   "cell_type": "code",
   "execution_count": 21,
   "metadata": {},
   "outputs": [],
   "source": [
    "# These environment variables are configured in app.yaml.\n",
    "CLOUDSQL_CONNECTION_NAME = 'treinamentos-python:southamerica-east1:treinamento'  ##os.environ.get('CLOUDSQL_CONNECTION_NAME')\n",
    "CLOUDSQL_USER = 'root'                                                           ##os.environ.get('CLOUDSQL_USER')\n",
    "CLOUDSQL_PASSWORD = 'treina123'                                                  ##os.environ.get('CLOUDSQL_PASSWORD')\n",
    "DATA_BASE = 'escola'\n",
    "\n",
    "def connect_to_cloudsql():\n",
    "    # When deployed to App Engine, the `SERVER_SOFTWARE` environment variable\n",
    "    # will be set to 'Google App Engine/version'.\n",
    "    if os.getenv('SERVER_SOFTWARE', '').startswith('Google App Engine/'):\n",
    "        # Connect using the unix socket located at\n",
    "        # /cloudsql/cloudsql-connection-name.\n",
    "        cloudsql_unix_socket = os.path.join(\n",
    "            '/cloudsql', CLOUDSQL_CONNECTION_NAME)\n",
    "\n",
    "        db = MySQLdb.connect(\n",
    "            unix_socket=cloudsql_unix_socket,\n",
    "            user=CLOUDSQL_USER,\n",
    "            passwd=CLOUDSQL_PASSWORD, database=DATA_BASE)\n",
    "\n",
    "    # If the unix socket is unavailable, then try to connect using TCP. This\n",
    "    # will work if you're running a local MySQL server or using the Cloud SQL\n",
    "    # proxy, for example:\n",
    "    #\n",
    "    #   $ cloud_sql_proxy -instances=your-connection-name=tcp:3306\n",
    "    #\n",
    "    else:\n",
    "        db = MySQLdb.connect(\n",
    "            host='35.247.208.205', user=CLOUDSQL_USER, passwd=CLOUDSQL_PASSWORD, database = DATA_BASE)\n",
    "\n",
    "    return db"
   ]
  },
  {
   "cell_type": "code",
   "execution_count": 22,
   "metadata": {},
   "outputs": [],
   "source": [
    " db = connect_to_cloudsql()"
   ]
  },
  {
   "cell_type": "code",
   "execution_count": 25,
   "metadata": {},
   "outputs": [
    {
     "data": {
      "text/plain": [
       "0"
      ]
     },
     "execution_count": 25,
     "metadata": {},
     "output_type": "execute_result"
    }
   ],
   "source": [
    "cursor = db.cursor()\n",
    "#cursor.execute('create table cursos (id integer primary key,titulo varchar(100),categoria varchar(140));')\n",
    "cursor.execute('DROP TABLE cursos')"
   ]
  },
  {
   "cell_type": "code",
   "execution_count": 24,
   "metadata": {},
   "outputs": [
    {
     "name": "stdout",
     "output_type": "stream",
     "text": [
      "('cursos',)\n"
     ]
    }
   ],
   "source": [
    "for tabela in cursor:\n",
    "  print(tabela)"
   ]
  },
  {
   "cell_type": "code",
   "execution_count": null,
   "metadata": {},
   "outputs": [],
   "source": []
  },
  {
   "cell_type": "code",
   "execution_count": 7,
   "metadata": {},
   "outputs": [],
   "source": []
  },
  {
   "cell_type": "code",
   "execution_count": null,
   "metadata": {},
   "outputs": [],
   "source": []
  }
 ],
 "metadata": {
  "kernelspec": {
   "display_name": "Python 3",
   "language": "python",
   "name": "python3"
  },
  "language_info": {
   "codemirror_mode": {
    "name": "ipython",
    "version": 3
   },
   "file_extension": ".py",
   "mimetype": "text/x-python",
   "name": "python",
   "nbconvert_exporter": "python",
   "pygments_lexer": "ipython3",
   "version": "3.5.6"
  }
 },
 "nbformat": 4,
 "nbformat_minor": 2
}
