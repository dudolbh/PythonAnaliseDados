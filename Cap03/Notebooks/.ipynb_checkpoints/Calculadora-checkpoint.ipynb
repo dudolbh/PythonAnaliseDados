{
 "cells": [
  {
   "cell_type": "markdown",
   "metadata": {},
   "source": [
    "<b>Calculadora em python!<b/>"
   ]
  },
  {
   "cell_type": "code",
   "execution_count": 7,
   "metadata": {},
   "outputs": [
    {
     "name": "stdout",
     "output_type": "stream",
     "text": [
      "Informe a operação desejada: \n",
      "1 - Soma \n",
      "2 - Subitração \n",
      "3 - Multiplicação \n",
      "4 - Divisão\n",
      "3\n",
      "Numero 1:2\n",
      "Numero 2:5\n",
      "Resultado da operação 2 * 5 e igual a 10.\n"
     ]
    }
   ],
   "source": [
    "def calculadora (num1,num2,operacao):\n",
    "  if operacao == '1':\n",
    "    calculo = lambda num1 , num2: num1 + num2\n",
    "    sinal = '+'\n",
    "  elif operacao == '2':\n",
    "    calculo = lambda num1 , num2: num1 - num2\n",
    "    sinal = '-'\n",
    "  elif operacao == '3':\n",
    "    calculo = lambda num1 , num2: num1 * num2\n",
    "    sinal = '*'\n",
    "  elif operacao == '4':\n",
    "    calculo = lambda num1 , num2: num1 / num2\n",
    "    sinal = '/'\n",
    "  else: \n",
    "    calculo = 0\n",
    "    sinal = 'NA'\n",
    "  resultadoSinal = (sinal,calculo(num1,num2))\n",
    "  return resultadoSinal\n",
    "\n",
    "print('Informe a operação desejada: \\n1 - Soma \\n2 - Subitração \\n3 - Multiplicação \\n4 - Divisão')\n",
    "calc = str(input())\n",
    "if calc != '1' and calc != '2' and calc != '3' and calc != '4':\n",
    "  print('Informe uma opção valida!')\n",
    "else:\n",
    "  valor1 = int(input('Numero 1:'))\n",
    "  valor2 = int(input('Numero 2:'))\n",
    "  resultado = calculadora(valor1,valor2,calc)\n",
    "  print(\"Resultado da operação %r %s %r e igual a %r.\" %(valor1,resultado[0],valor2,resultado[1]))"
   ]
  }
 ],
 "metadata": {
  "kernelspec": {
   "display_name": "Python 2",
   "language": "python",
   "name": "python2"
  },
  "language_info": {
   "codemirror_mode": {
    "name": "ipython",
    "version": 2
   },
   "file_extension": ".py",
   "mimetype": "text/x-python",
   "name": "python",
   "nbconvert_exporter": "python",
   "pygments_lexer": "ipython2",
   "version": "2.7.15"
  }
 },
 "nbformat": 4,
 "nbformat_minor": 2
}
