{
 "cells": [
  {
   "cell_type": "markdown",
   "metadata": {},
   "source": [
    "<b>Jogo da Forca.</b>\n",
    "\n",
    "Regras: 6 chances para acertar a palavra."
   ]
  },
  {
   "cell_type": "code",
   "execution_count": 10,
   "metadata": {},
   "outputs": [],
   "source": [
    "#Import das bibliotecas\n",
    "import random "
   ]
  },
  {
   "cell_type": "code",
   "execution_count": 16,
   "metadata": {},
   "outputs": [],
   "source": [
    "#Função para leitura do arquivo contendo as palavras chaves, retornando uma lista.\n",
    "def getPalavras(caminho_arquivo):\n",
    "    # Abrindo o arquivo para leitura\n",
    "    try: # tenta abrir o arquivo caso contrario da erro\n",
    "        arquivo = open(caminho_arquivo, \"r\")\n",
    "    except:\n",
    "        print \"Arquivo com origem das palavras não encontrado\"\n",
    "        return None\n",
    "    else:\n",
    "        dados = arquivo.read()                  #leitura do txt.\n",
    "        lista_palavra_chave = dados.split(\"\\n\") #quebra a palavras em lista\n",
    "        return lista_palavra_chave              #retorna a lista de palavras"
   ]
  },
  {
   "cell_type": "code",
   "execution_count": 50,
   "metadata": {},
   "outputs": [],
   "source": [
    "#Classe da palavra chave, contem a lista informada e a palavra chave.\n",
    "class PalavraChave(object):\n",
    "    def __init__(self, lista_palavras):\n",
    "        self.lista_palavras = lista_palavras\n",
    "        self.palavra_chave = palavraChave(lista_palavras)\n",
    "        self.palavra_split = None\n",
    "        self.mascara_palavra = None\n",
    "        \n",
    "    def __str__(self):\n",
    "        return \"Palavras: %s, Palavra chave: %s\" %(self.lista_palavras, self.palavra_chave)\n",
    "    \n",
    "    def palavraChave(self,lista_palavras):\n",
    "      palavra = random.choice(self.lista_palavras)\n",
    "      return list(palavra)\n",
    "     \n",
    "    def retornaMascara(self):\n",
    "      print(len(self.palavra_chave))"
   ]
  },
  {
   "cell_type": "code",
   "execution_count": 53,
   "metadata": {},
   "outputs": [
    {
     "name": "stdout",
     "output_type": "stream",
     "text": [
      "Palavras: ['bola', 'casa', 'massa'], Palavra chave: massa\n",
      "5\n"
     ]
    }
   ],
   "source": [
    "#Import do arquivo com as palavras:\n",
    "lista_palavra_chave = getPalavras(\"palavras.txt\")\n",
    "\n",
    "#Instacia o objeto palavra chave\n",
    "palavra_chave = PalavraChave(lista_palavra_chave)\n",
    "print(str(palavra_chave))\n",
    "palavra_chave.retornaMascara()\n",
    "\n"
   ]
  },
  {
   "cell_type": "code",
   "execution_count": 55,
   "metadata": {},
   "outputs": [
    {
     "name": "stdout",
     "output_type": "stream",
     "text": [
      "['b', 'o', 'l', 'a']\n",
      "bola\n"
     ]
    }
   ],
   "source": [
    "palavra = \"bola\"\n",
    "palavra_lst = list(palavra)\n",
    "palavra_fnl = ''.join(palavra_lst)#Concatenar uma lista.\n",
    "print(palavra_lst)\n",
    "print(palavra_fnl)"
   ]
  }
 ],
 "metadata": {
  "kernelspec": {
   "display_name": "Python 2",
   "language": "python",
   "name": "python2"
  },
  "language_info": {
   "codemirror_mode": {
    "name": "ipython",
    "version": 2
   },
   "file_extension": ".py",
   "mimetype": "text/x-python",
   "name": "python",
   "nbconvert_exporter": "python",
   "pygments_lexer": "ipython2",
   "version": "2.7.15"
  }
 },
 "nbformat": 4,
 "nbformat_minor": 2
}
