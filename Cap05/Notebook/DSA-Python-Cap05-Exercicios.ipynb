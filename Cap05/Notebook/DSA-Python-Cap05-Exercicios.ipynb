{
 "cells": [
  {
   "cell_type": "markdown",
   "metadata": {},
   "source": [
    "# <font color='blue'>Data Science Academy - Python Fundamentos - Capítulo 5</font>\n",
    "\n",
    "## Download: http://github.com/dsacademybr"
   ]
  },
  {
   "cell_type": "markdown",
   "metadata": {},
   "source": [
    "## Exercícios"
   ]
  },
  {
   "cell_type": "code",
   "execution_count": 1,
   "metadata": {},
   "outputs": [],
   "source": [
    "# Exercício 1 - Crie um objeto a partir da classe abaixo, chamado roc1, passando 2 parâmetros e depois faça uma chamada\n",
    "# aos atributos e métodos\n",
    "from math import sqrt\n",
    "\n",
    "class Rocket():\n",
    "     \n",
    "    def __init__(self, x=0, y=0):\n",
    "        self.x = x\n",
    "        self.y = y\n",
    "        \n",
    "    def move_rocket(self, x_increment=0, y_increment=1):\n",
    "        self.x += x_increment\n",
    "        self.y += y_increment\n",
    "        \n",
    "    def print_rocket(self):\n",
    "        print(self.x, self.y)\n",
    "        "
   ]
  },
  {
   "cell_type": "code",
   "execution_count": 50,
   "metadata": {},
   "outputs": [
    {
     "name": "stdout",
     "output_type": "stream",
     "text": [
      "2-6\n",
      "2 6\n",
      "4 8\n"
     ]
    }
   ],
   "source": [
    "roc1 = Rocket(2,6)\n",
    "print(str(roc1.x) + \"-\" + str(roc1.y))\n",
    "roc1.print_rocket()\n",
    "roc1.move_rocket(2,2)\n",
    "roc1.print_rocket()"
   ]
  },
  {
   "cell_type": "code",
   "execution_count": 52,
   "metadata": {},
   "outputs": [],
   "source": [
    "# Exercício 2 - Crie uma classe chamada Pessoa() com os atributos: nome, cidade, telefone e e-mail. Use pelo menos 2\n",
    "# métodos especiais na sua classe. Crie um objeto da sua classe e faça uma chamada a pelo menos um dos seus métodos\n",
    "# especiais.\n",
    "class Pessoa():\n",
    "    def __init__(self, nome, cidade, telefone, email):\n",
    "        self.nome = nome\n",
    "        self.cidade = cidade\n",
    "        self.telefone = telefone\n",
    "        self.email = email\n",
    "    \n",
    "    def mostraCadastro(self):\n",
    "        print(\"Nome: %s\\nCidade: %s\\nTelefone: %s\\nE-mail: %s\" %(self.nome, self.cidade, self.telefone,self.email))\n",
    "        \n",
    "    def __str__(self):\n",
    "        return \"O usuário \" + self.nome + \" mora na cidade \" + self.cidade\n",
    "        \n",
    "    def alteraMail(self, n_email):\n",
    "        self.email = n_email\n",
    "\n"
   ]
  },
  {
   "cell_type": "code",
   "execution_count": 53,
   "metadata": {},
   "outputs": [
    {
     "name": "stdout",
     "output_type": "stream",
     "text": [
      "Nome: Eduardo\n",
      "Cidade: BH\n",
      "Telefone: 998065761\n",
      "E-mail: dudolbh@gmail.com\n"
     ]
    },
    {
     "data": {
      "text/plain": [
       "'O usuário Eduardo mora na cidade BH'"
      ]
     },
     "execution_count": 53,
     "metadata": {},
     "output_type": "execute_result"
    }
   ],
   "source": [
    "#Cria cadastro.\n",
    "pessoa1 = Pessoa(\"Eduardo\",\"BH\",\"998065761\",\"dudolbh@gmail.com\")\n",
    "pessoa1.mostraCadastro()\n",
    "str(pessoa1)"
   ]
  },
  {
   "cell_type": "code",
   "execution_count": 24,
   "metadata": {},
   "outputs": [
    {
     "name": "stdout",
     "output_type": "stream",
     "text": [
      "Nome: Eduardo\n",
      "Cidade: BH\n",
      "Telefone: 998065761\n",
      "E-mail: eduardobsney@gmail.com\n"
     ]
    }
   ],
   "source": [
    "#Alterando email\n",
    "pessoa1.alteraMail(\"eduardobsney@gmail.com\")\n",
    "pessoa1.mostraCadastro()\n",
    "##getattr(pessoa1, \"email\")"
   ]
  },
  {
   "cell_type": "code",
   "execution_count": 55,
   "metadata": {},
   "outputs": [],
   "source": [
    "# Exercício 3 - Crie a classe Smartphone com 2 atributos, tamanho e interface e crie a classe MP3Player com os \n",
    "# atributos capacidade. A classe MP3player deve herdar os atributos da classe Smartphone.\n",
    "class Smartphone(object):\n",
    "    def __init__(self, tamanho, interface):\n",
    "        self.tamanho = tamanho\n",
    "        self.interface = interface\n",
    "        print(\"Smartphone criado\")\n",
    "        \n",
    "class MP3player(Smartphone):\n",
    "    def __init__(self, capacidade, tamanho=\"pequeno\", interface=\"Usb\"): #Seta os valores padrão.\n",
    "        Smartphone.__init__(self, tamanho, interface)\n",
    "        self.capacidade = capacidade\n",
    "        print(\"Mp3 Criado\")\n",
    "        \n",
    "    def print_mp3player(self): #valorese da herança só podem ser acessados de dentro da classe.\n",
    "        print(\"Valores para o objeto criado: %s %s %s\"  %(self.tamanho, self.interface, self.capacidade))"
   ]
  },
  {
   "cell_type": "code",
   "execution_count": 62,
   "metadata": {},
   "outputs": [
    {
     "name": "stdout",
     "output_type": "stream",
     "text": [
      "Smartphone criado\n",
      "Smartphone criado\n",
      "Mp3 Criado\n",
      "Smartphone criado\n",
      "Mp3 Criado\n"
     ]
    }
   ],
   "source": [
    "\n",
    "celular1 = Smartphone(\"20cm\",\"Android\")\n",
    "mp3_1 = MP3player(\"32gb\",\"20cm\",\"Android\")\n",
    "mp3_2 = MP3player(\"64gb\")"
   ]
  },
  {
   "cell_type": "code",
   "execution_count": 63,
   "metadata": {},
   "outputs": [
    {
     "name": "stdout",
     "output_type": "stream",
     "text": [
      "Valores para o objeto criado: 20cm Android 32gb\n",
      "Valores para o objeto criado: pequeno Usb 64gb\n"
     ]
    },
    {
     "data": {
      "text/plain": [
       "'pequeno'"
      ]
     },
     "execution_count": 63,
     "metadata": {},
     "output_type": "execute_result"
    }
   ],
   "source": [
    "mp3_1.print_mp3player()\n",
    "mp3_1.tamanho\n",
    "mp3_2.print_mp3player()\n",
    "mp3_2.tamanho"
   ]
  },
  {
   "cell_type": "markdown",
   "metadata": {},
   "source": [
    "### FIM"
   ]
  },
  {
   "cell_type": "markdown",
   "metadata": {},
   "source": [
    "### Obrigado - Data Science Academy - <a href=\"http://facebook.com/dsacademybr\">facebook.com/dsacademybr</a>"
   ]
  }
 ],
 "metadata": {
  "kernelspec": {
   "display_name": "Python 3",
   "language": "python",
   "name": "python3"
  },
  "language_info": {
   "codemirror_mode": {
    "name": "ipython",
    "version": 3
   },
   "file_extension": ".py",
   "mimetype": "text/x-python",
   "name": "python",
   "nbconvert_exporter": "python",
   "pygments_lexer": "ipython3",
   "version": "3.5.6"
  }
 },
 "nbformat": 4,
 "nbformat_minor": 1
}
